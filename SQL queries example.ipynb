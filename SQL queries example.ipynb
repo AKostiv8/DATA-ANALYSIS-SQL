{
 "cells": [
  {
   "cell_type": "markdown",
   "metadata": {},
   "source": [
    "# Analyzing Business Data in SQL (SQL queries examples)"
   ]
  },
  {
   "cell_type": "markdown",
   "metadata": {},
   "source": [
    "<img src=\"https://info-comp.ru/wp-content/uploads/images/stories/kartinki2/What_is_SQL_1.jpg\">"
   ]
  },
  {
   "cell_type": "markdown",
   "metadata": {},
   "source": [
    "<p>Businesses track data on everything, from operations to marketing to HR. Leveraging this data enables businesses to better understand themselves and their customers, leading to higher profits and better performance. In this notebook we will review the key metrics that businesses use to measure performance, write SQL queries to calculate these metrics and produce report-ready results.</p>"
   ]
  },
  {
   "cell_type": "markdown",
   "metadata": {},
   "source": [
    "## 1. Revenue, cost, and profit"
   ]
  },
  {
   "cell_type": "markdown",
   "metadata": {},
   "source": [
    "<p>Profit is one of the first things people use to assess a company's success. In this paragraph, will'll discover how to calculate revenue and cost, and then combine the two calculations using Common Table Expressions to calculate profit.</p>"
   ]
  },
  {
   "cell_type": "markdown",
   "metadata": {},
   "source": [
    "<p><b><i>PROFIT:</i></b> the money company makes minus the money it spends. (<i>revenue - cost</i>)</p>\n",
    "<p><b><i>REVENUE:</i></b> the money company makes.</p>\n",
    "<p><b><i>COST:</i></b> the money company spends.</p>"
   ]
  },
  {
   "cell_type": "markdown",
   "metadata": {},
   "source": [
    "<h3>EXAMPLE_01: Revenue per customer</h3>"
   ]
  },
  {
   "cell_type": "markdown",
   "metadata": {},
   "source": [
    "<code><span style=\"color:green\">-- Calculate revenue</span>\n",
    "<span style=\"color:blue\">SELECT sum(meals.meal_price * orders.order_quantity) AS revenue\n",
    "  FROM meals\n",
    "  JOIN orders ON meals.meal_id = orders.meal_id</span>\n",
    "<span style=\"color:green\">-- Keep only the records of customer ID 15</span>\n",
    "<span style=\"color:blue\">WHERE user_id = 15;</span>\n",
    "</code>"
   ]
  },
  {
   "cell_type": "markdown",
   "metadata": {},
   "source": [
    "<h3>EXAMPLE_02: Revenue per week</h3>"
   ]
  },
  {
   "cell_type": "markdown",
   "metadata": {},
   "source": [
    "<code><span style=\"color:blue\">SELECT DATE_TRUNC('week', order_date) :: DATE AS delivr_week,</span>\n",
    "       <span style=\"color:green\">-- Calculate revenue</span>\n",
    "       <span style=\"color:blue\">sum(orders.order_quantity * meals.meal_price) AS revenue\n",
    "  FROM meals\n",
    "  JOIN orders ON meals.meal_id = orders.meal_id</span>\n",
    "<span style=\"color:green\">-- Keep only the records in June 2018</span>\n",
    "<span style=\"color:blue\">WHERE DATE_TRUNC('month', order_date) = '2018-06-01'\n",
    "GROUP BY delivr_week\n",
    "ORDER BY delivr_week ASC;</span></code>"
   ]
  },
  {
   "cell_type": "markdown",
   "metadata": {},
   "source": [
    "<h3>EXAMPLE_03: Total cost</h3>"
   ]
  },
  {
   "cell_type": "markdown",
   "metadata": {},
   "source": [
    "<code><span style=\"color:blue\">SELECT sum(meals.meal_cost * stock.stocked_quantity) AS total_cost\n",
    "FROM meals\n",
    "JOIN stock ON meals.meal_id = stock.meal_id</span></code>"
   ]
  },
  {
   "cell_type": "markdown",
   "metadata": {},
   "source": [
    "<h3>EXAMPLE_04: Top meals by cost</h3>"
   ]
  },
  {
   "cell_type": "markdown",
   "metadata": {},
   "source": [
    "<code><span style=\"color:blue\">SELECT</span>\n",
    "<span style=\"color:green\">-- Calculate cost per meal ID</span>\n",
    "  <span style=\"color:blue\">meals.meal_id,\n",
    "  sum(stock.stocked_quantity * meals.meal_cost) AS cost\n",
    "FROM meals\n",
    "JOIN stock ON meals.meal_id = stock.meal_id\n",
    "GROUP BY meals.meal_id\n",
    "ORDER BY cost DESC</span>\n",
    "<span style=\"color:green\">-- Only the top 5 meal IDs by purchase cost</span>\n",
    "<span style=\"color:blue\">LIMIT 5;</span></code>"
   ]
  },
  {
   "cell_type": "markdown",
   "metadata": {},
   "source": [
    "<h3>EXAMPLE_05: Using CTEs</h3>"
   ]
  },
  {
   "cell_type": "markdown",
   "metadata": {},
   "source": [
    "<code><span style=\"color:green\">-- Declare a CTE named monthly_cost</span>\n",
    "<span style=\"color:blue\">WITH monthly_cost AS (\n",
    "  SELECT\n",
    "    DATE_TRUNC('month', stocking_date)::DATE AS delivr_month,\n",
    "    SUM(meal_cost * stocked_quantity) AS cost\n",
    "  FROM meals\n",
    "  JOIN stock ON meals.meal_id = stock.meal_id\n",
    "  GROUP BY delivr_month)</span>\n",
    "\n",
    "\n",
    "<span style=\"color:blue\">SELECT</span>\n",
    "  </span><span style=\"color:green\">-- Calculate the average monthly cost before September</span>\n",
    "<span style=\"color:blue\">  avg(cost)\n",
    "FROM monthly_cost\n",
    "WHERE delivr_month < '2018-09-01';</span></code>"
   ]
  },
  {
   "cell_type": "markdown",
   "metadata": {},
   "source": [
    "<h3>EXAMPLE_06: Profit per eatery</h3>"
   ]
  },
  {
   "cell_type": "markdown",
   "metadata": {},
   "source": [
    "<code><span style=\"color:blue\">WITH revenue AS (<span>\n",
    "  <span style=\"color:green\">-- Calculate revenue per eatery</span>\n",
    "  <span style=\"color:blue\">SELECT eatery,\n",
    "         SUM(meal_price * order_quantity) AS revenue\n",
    "    FROM meals\n",
    "    JOIN orders ON meals.meal_id = orders.meal_id\n",
    "   GROUP BY eatery),</span>\n",
    "\n",
    "  <span style=\"color:blue\">cost AS (</span>\n",
    "  <span style=\"color:green\">-- Calculate cost per eatery</span>\n",
    "  <span style=\"color:blue\">SELECT eatery,\n",
    "         SUM(meal_cost * stocked_quantity) AS cost\n",
    "    FROM meals\n",
    "    JOIN stock ON meals.meal_id = stock.meal_id\n",
    "   GROUP BY eatery)</span>\n",
    "\n",
    "   <span style=\"color:green\">-- Calculate profit per eatery</span>\n",
    "   <span style=\"color:blue\">SELECT revenue.eatery,\n",
    "          revenue - cost AS profit\n",
    "     FROM revenue\n",
    "     JOIN cost ON revenue.eatery = cost.eatery\n",
    "    ORDER BY profit DESC;</span></code>"
   ]
  },
  {
   "cell_type": "markdown",
   "metadata": {},
   "source": [
    "<h3>EXAMPLE_07: Profit per month</h3>"
   ]
  },
  {
   "cell_type": "markdown",
   "metadata": {},
   "source": [
    "<code><span style=\"color:green\">-- Set up the revenue CTE</span>\n",
    "<span style=\"color:blue\">WITH revenue AS ( \n",
    "\tSELECT\n",
    "\t\tDATE_TRUNC('month', order_date) :: DATE AS delivr_month,\n",
    "\t\tsum(meals.meal_price * orders.order_quantity) AS revenue\n",
    "\tFROM meals\n",
    "\tJOIN orders ON meals.meal_id = orders.meal_id\n",
    "\tGROUP BY delivr_month),</span>\n",
    "<span style=\"color:green\">-- Set up the cost CTE</span>\n",
    "  <span style=\"color:blue\">cost AS (\n",
    " \tSELECT\n",
    "\t\tDATE_TRUNC('month', stocking_date) :: DATE AS delivr_month,\n",
    "\t\tsum(stock.stocked_quantity * meals.meal_cost) AS cost\n",
    "\tFROM meals\n",
    "    JOIN stock ON meals.meal_id = stock.meal_id\n",
    "\tGROUP BY delivr_month)</span>\n",
    "\n",
    "\n",
    "<span style=\"color:green\">-- Calculate profit by joining the CTEs</span>\n",
    "<span style=\"color:blue\">SELECT\n",
    "\trevenue.delivr_month,\n",
    "\t(revenue - cost) AS profit\n",
    "FROM revenue\n",
    "JOIN cost ON revenue.delivr_month = cost.delivr_month\n",
    "ORDER BY revenue.delivr_month ASC;</span></code>"
   ]
  },
  {
   "cell_type": "markdown",
   "metadata": {},
   "source": [
    "## 2. User-centric KPIs"
   ]
  },
  {
   "cell_type": "markdown",
   "metadata": {},
   "source": [
    "<p>Financial KPIs like profit are important, but they don't speak to user activity and engagement. In this paragraph , we'll discover how to calculate the registrations and active users KPIs, and use window functions to calculate the user growth and retention rates.</p>"
   ]
  },
  {
   "cell_type": "markdown",
   "metadata": {},
   "source": [
    "<p><b><i>REGISTRATION:</i></b> when a user first signs up for an account on service through its app.</p>\n",
    "<p><b><i>REGISTRATIONS KPI:</i></b> counts registrations over time, usually per month (good at measuring  a company`s success in attracting new users).</p>\n",
    "<p><b><i>ACTIVE USERS KPI:</i></b> counts the active users of a company`s app over a time period \n",
    "    <ul>\n",
    "        <li>by day (daily active users, or DAU)</li>\n",
    "        <li>by month (monthly active users, or MAU)</li>\n",
    "    </ul>  \n",
    "Stickiness <b>(DAU/MAU)</b>, measures how often users engage with an app on average (If service's stickiness is DAU / MAU = 0.3 (30%), users use servises for 30% * 30 days = 9 days each month on average).\n",
    "</p>\n",
    "<p><b><i>GROWTH RATE:</i></b> a percentage that show the change in a variable over time relative to that variable's initial value. ($\\frac{current_value - previous_value}{previous_value}$)</p>\n",
    "<p><b><i>RETENTION RATE:</i></b> a percentage measuring how many users who were active in a previous month are still active in the current month. (<b>formula:</b> $\\frac{Uc}{Up}$, where <i>U<sub>c</sub></i> is the count of distinct users who were active in both the current and previous months, and <i>U<sub>p</sub></i> is the count of distinct users who were active in the previous period)."
   ]
  },
  {
   "cell_type": "markdown",
   "metadata": {},
   "source": [
    "<h3>EXAMPLE_08: Registrations by month</h3>"
   ]
  },
  {
   "cell_type": "markdown",
   "metadata": {},
   "source": [
    "<code><span style=\"color:green\">-- Wrap the query you wrote in a CTE named reg_dates</span>\n",
    "<span style=\"color:blue\">WITH registr_dates AS (\n",
    "  SELECT\n",
    "    user_id,\n",
    "    MIN(order_date) AS registration_date\n",
    "  FROM orders\n",
    "  GROUP BY user_id)</span>\n",
    "\n",
    "<span style=\"color:blue\">SELECT</span>\n",
    "  <span style=\"color:green\">-- Count the unique user IDs by registration month</span>\n",
    "  <span style=\"color:blue\">DATE_TRUNC('month', registration_date) :: DATE AS delivr_month,\n",
    "  COUNT(DISTINCT user_id) AS num_user_registered\n",
    "FROM registr_dates\n",
    "GROUP BY delivr_month\n",
    "ORDER BY delivr_month ASC;</span> \n",
    "</code>"
   ]
  },
  {
   "cell_type": "markdown",
   "metadata": {},
   "source": [
    "<h3>EXAMPLE_09: Monthly active users (MAU)</h3>"
   ]
  },
  {
   "cell_type": "markdown",
   "metadata": {},
   "source": [
    "<code><span style=\"color:blue\">SELECT</span>\n",
    "  <span style=\"color:green\">-- Truncate the order date to the nearest month</span>\n",
    "  <span style=\"color:blue\">DATE_TRUNC('month', order_date) :: DATE AS delivr_month,</span>\n",
    "  <span style=\"color:green\">-- Count the unique user IDs</span>\n",
    "  <span style=\"color:blue\">COUNT(DISTINCT(user_id)) AS mau\n",
    "FROM orders\n",
    "GROUP BY delivr_month</span>\n",
    "<span style=\"color:green\">-- Order by month</span>\n",
    "<span style=\"color:blue\">ORDER BY delivr_month ASC;</span></code>"
   ]
  },
  {
   "cell_type": "markdown",
   "metadata": {},
   "source": [
    "<h3>EXAMPLE_10: Registrations running total (Commutative Sum)</h3>"
   ]
  },
  {
   "cell_type": "markdown",
   "metadata": {},
   "source": [
    "<code><span style=\"color:blue\">WITH reg_dates AS (\n",
    "  SELECT\n",
    "    user_id,\n",
    "    MIN(order_date) AS reg_date\n",
    "  FROM orders\n",
    "  GROUP BY user_id),</span>\n",
    "\n",
    "  <span style=\"color:blue\">regs AS (\n",
    "  SELECT\n",
    "    DATE_TRUNC('month', reg_date) :: DATE AS delivr_month,\n",
    "    COUNT(DISTINCT user_id) AS regs\n",
    "  FROM reg_dates\n",
    "  GROUP BY delivr_month)</span>\n",
    "\n",
    "<span style=\"color:blue\">SELECT</span>\n",
    "  <span style=\"color:green\">-- Calculate the registrations running total by month</span>\n",
    "  <span style=\"color:blue\">delivr_month,\n",
    "  regs,\n",
    "  SUM(regs) OVER (ORDER BY delivr_month ASC) AS regs_rt\n",
    "FROM regs</span>\n",
    "<span style=\"color:green\">-- Order by month in ascending order</span>\n",
    "<span style=\"color:blue\">ORDER BY delivr_month ASC;</span> </code>"
   ]
  },
  {
   "cell_type": "markdown",
   "metadata": {},
   "source": [
    "<h3>EXAMPLE_11: Lagged MAU - query</h3>"
   ]
  },
  {
   "cell_type": "markdown",
   "metadata": {},
   "source": [
    "<code><span style=\"color:blue\">WITH mau AS (\n",
    "  SELECT\n",
    "    DATE_TRUNC('month', order_date) :: DATE AS delivr_month,\n",
    "    COUNT(DISTINCT user_id) AS mau\n",
    "  FROM orders\n",
    "  GROUP BY delivr_month)</span>\n",
    "\n",
    "<span style=\"color:blue\">SELECT</span>\n",
    "  <span style=\"color:green\">-- Select the month and the MAU</span>\n",
    "  <span style=\"color:blue\">delivr_month,\n",
    "  mau,\n",
    "  COALESCE(\n",
    "    LAG(mau) OVER (ORDER BY delivr_month ASC),\n",
    "  0) AS last_mau\n",
    "FROM mau</span>\n",
    "<span style=\"color:green\">-- Order by month in ascending order</span>\n",
    "<span style=\"color:blue\">ORDER BY delivr_month ASC;</span></code>"
   ]
  },
  {
   "cell_type": "markdown",
   "metadata": {},
   "source": [
    "<h3>EXAMPLE_12: Deltas - query</h3>"
   ]
  },
  {
   "cell_type": "markdown",
   "metadata": {},
   "source": [
    "<code><span style=\"color:blue\">WITH mau AS (\n",
    "  SELECT\n",
    "    DATE_TRUNC('month', order_date) :: DATE AS delivr_month,\n",
    "    COUNT(DISTINCT user_id) AS mau\n",
    "  FROM orders\n",
    "  GROUP BY delivr_month),</span>\n",
    "\n",
    "  <span style=\"color:blue\">mau_with_lag AS (\n",
    "  SELECT\n",
    "    delivr_month,\n",
    "    mau,<span>\n",
    "    <span style=\"color:green\">-- Fetch the previous month's MAU</span>\n",
    "    <span style=\"color:blue\">COALESCE(\n",
    "      lag(mau) OVER (ORDER BY delivr_month ASC),\n",
    "    0) AS last_mau\n",
    "  FROM mau)</span>\n",
    "\n",
    "<span style=\"color:blue\">SELECT</span>\n",
    "  <span style=\"color:green\">-- Calculate each month's delta of MAUs</span>\n",
    "  <span style=\"color:blue\">delivr_month,\n",
    "  (mau - last_mau) AS mau_delta\n",
    "FROM mau_with_lag</span>\n",
    "<span style=\"color:green\">-- Order by month in ascending order</span>\n",
    "<span style=\"color:blue\">ORDER BY delivr_month;</span></code>"
   ]
  },
  {
   "cell_type": "markdown",
   "metadata": {},
   "source": [
    "<h3>EXAMPLE_13: Growth rate</h3>"
   ]
  },
  {
   "cell_type": "markdown",
   "metadata": {},
   "source": [
    "<code><span style=\"color:blue\">WITH mau AS (\n",
    "  SELECT\n",
    "    DATE_TRUNC('month', order_date) :: DATE AS delivr_month,\n",
    "    COUNT(DISTINCT user_id) AS mau\n",
    "  FROM orders\n",
    "  GROUP BY delivr_month),</span>\n",
    "\n",
    "  <span style=\"color:blue\">mau_with_lag AS (\n",
    "  SELECT\n",
    "    delivr_month,\n",
    "    mau,\n",
    "    GREATEST(\n",
    "      LAG(mau) OVER (ORDER BY delivr_month ASC),\n",
    "    1) AS last_mau\n",
    "  FROM mau)</span>\n",
    "\n",
    "<span style=\"color:blue\">SELECT</span>\n",
    "  <span style=\"color:green\">-- Calculate the MoM MAU growth rates</span>\n",
    "  <span style=\"color:blue\">delivr_month,\n",
    "  ROUND(\n",
    "    (mau - last_mau)::NUMERIC / last_mau,\n",
    "  2) AS growth\n",
    "FROM mau_with_lag</span>\n",
    "<span style=\"color:green\">-- Order by month in ascending order</span>\n",
    "<span style=\"color:blue\">ORDER BY delivr_month;</span></code>"
   ]
  },
  {
   "cell_type": "markdown",
   "metadata": {},
   "source": [
    "<h3>EXAMPLE_14: Order growth rate</h3>"
   ]
  },
  {
   "cell_type": "markdown",
   "metadata": {},
   "source": [
    "<code><span style=\"color:blue\">WITH orders AS (\n",
    "  SELECT\n",
    "    DATE_TRUNC('month', order_date) :: DATE AS delivr_month,</span>\n",
    "    <span style=\"color:green\">--  Count the unique order IDs</span>\n",
    "    <span style=\"color:blue\">COUNT(DISTINCT(order_id)) AS orders\n",
    "  FROM orders\n",
    "  GROUP BY delivr_month),</span>\n",
    "\n",
    "  <span style=\"color:blue\">orders_with_lag AS (\n",
    "  SELECT\n",
    "    delivr_month,</span>\n",
    "    <span style=\"color:green\">-- Fetch each month's current and previous orders</span>\n",
    "    <span style=\"color:blue\">orders,\n",
    "    COALESCE(\n",
    "      lag(orders) OVER (ORDER BY delivr_month),\n",
    "    1) AS last_orders\n",
    "  FROM orders)</span>\n",
    "\n",
    "<span style=\"color:blue\">SELECT\n",
    "  delivr_month,</span>\n",
    "  <span style=\"color:green\">-- Calculate the MoM order growth rate</span>\n",
    "  <span style=\"color:blue\">ROUND(\n",
    "    (orders-last_orders)::NUMERIC / last_orders,\n",
    "  2) AS growth\n",
    "FROM orders_with_lag\n",
    "ORDER BY delivr_month ASC;</span></code>"
   ]
  },
  {
   "cell_type": "markdown",
   "metadata": {},
   "source": [
    "<h3>EXAMPLE_15: Retention rate</h3>"
   ]
  },
  {
   "cell_type": "markdown",
   "metadata": {},
   "source": [
    "<code><span style=\"color:blue\">WITH user_monthly_activity AS (\n",
    "  SELECT DISTINCT\n",
    "    DATE_TRUNC('month', order_date) :: DATE AS delivr_month,\n",
    "    user_id\n",
    "  FROM orders)</span>\n",
    "\n",
    "<span style=\"color:blue\">SELECT</span>\n",
    "  <span style=\"color:green\">-- Calculate the MoM retention rates</span>\n",
    "  <span style=\"color:blue\">previous.delivr_month,\n",
    "  ROUND(\n",
    "    COUNT(DISTINCT current.user_id) :: NUMERIC /GREATEST(COUNT(DISTINCT previous.user_id), 1),\n",
    "  2) AS retention_rate\n",
    "FROM user_monthly_activity AS previous\n",
    "LEFT JOIN user_monthly_activity AS current</span>\n",
    "<span style=\"color:green\">-- Fill in the user and month join conditions</span>\n",
    "<span style=\"color:blue\">ON  previous.user_id = current.user_id\n",
    "AND  previous.delivr_month = (current.delivr_month - INTERVAL '1 month')\n",
    "GROUP BY previous.delivr_month\n",
    "ORDER BY previous.delivr_month ASC;</span></code>"
   ]
  },
  {
   "cell_type": "markdown",
   "metadata": {},
   "source": [
    "## 3. ARPU, histograms, and percentiles"
   ]
  },
  {
   "cell_type": "markdown",
   "metadata": {},
   "source": [
    "<p>Since a KPI is a single number, it can't describe how data is distributed. In this paragraph, we'll discover about unit economics, histograms, bucketing, and percentiles, which we can use to spot the variance in user behaviors.</p>"
   ]
  },
  {
   "cell_type": "markdown",
   "metadata": {},
   "source": [
    "<p><b><i>UNIT ECONOMICS:</i></b> measures perfomance per unit, as opposed to overall perfomance.</p>\n",
    "<ul>\n",
    "    <li>AVERAGE REVENUE PER USER (<b>ARPU</b>)</li>\n",
    "    <ul><li>$\\frac{Revenue}{Count-of-users}$</li></ul>\n",
    "</ul>\n",
    "<p><b><i>Percentile:</i></b>n<sub>th</sub> percentile is the value for which n% of dataset's values are beneath this value.</p>"
   ]
  },
  {
   "cell_type": "markdown",
   "metadata": {},
   "source": [
    "<h3>EXAMPLE_16: Average revenue per user</h3>"
   ]
  },
  {
   "cell_type": "markdown",
   "metadata": {},
   "source": [
    "<code><span style=\"color:green\">-- Create a CTE named kpi</span>\n",
    "<span style=\"color:blue\">WITH kpi AS (\n",
    "  SELECT\n",
    "    <span style=\"color:green\">-- Select the user ID and calculate revenue</span>\n",
    "    user_id,\n",
    "    SUM(m.meal_price * o.order_quantity) AS revenue\n",
    "  FROM meals AS m\n",
    "  JOIN orders AS o ON m.meal_id = o.meal_id\n",
    "  GROUP BY user_id)</span>\n",
    "<span style=\"color:green\">-- Calculate ARPU</span>\n",
    "<span style=\"color:blue\">SELECT ROUND(AVG(revenue) :: NUMERIC,2) AS arpu\n",
    "FROM kpi;</span></code>"
   ]
  },
  {
   "cell_type": "markdown",
   "metadata": {},
   "source": [
    "<h3>EXAMPLE_17: ARPU per week</h3>"
   ]
  },
  {
   "cell_type": "markdown",
   "metadata": {},
   "source": [
    "<code><span style=\"color:blue\">WITH kpi AS (\n",
    "  SELECT</span>\n",
    "    <span style=\"color:green\">-- Select the week, revenue, and count of users</span>\n",
    "    <span style=\"color:blue\">DATE_TRUNC('week', order_date) :: DATE AS delivr_week,\n",
    "    SUM(order_quantity*meal_price) AS revenue,\n",
    "    COUNT(DISTINCT(user_id)) AS users\n",
    "  FROM meals AS m\n",
    "  JOIN orders AS o ON m.meal_id = o.meal_id\n",
    "  GROUP BY delivr_week)</span>\n",
    "\n",
    "<span style=\"color:blue\">SELECT\n",
    "  delivr_week,</span>\n",
    "  <span style=\"color:green\">-- Calculate ARPU</span>\n",
    "  <span style=\"color:blue\">ROUND(\n",
    "    revenue :: NUMERIC / users,\n",
    "  2) AS arpu\n",
    "FROM kpi</span>\n",
    "<span style=\"color:green\">-- Order by week in ascending order</span>\n",
    "<span style=\"color:blue\">ORDER BY delivr_week ASC;</span></code>"
   ]
  },
  {
   "cell_type": "markdown",
   "metadata": {},
   "source": [
    "<h3>EXAMPLE_18: Average orders per user</h3>"
   ]
  },
  {
   "cell_type": "markdown",
   "metadata": {},
   "source": [
    "<code><span style=\"color:blue\">WITH kpi AS (\n",
    "  SELECT</span>\n",
    "    <span style=\"color:green\">-- Select the count of orders and users</span>\n",
    "    <span style=\"color:blue\">COUNT(DISTINCT order_id) AS orders,\n",
    "    COUNT(DISTINCT user_id) AS users\n",
    "  FROM orders)</span>\n",
    "\n",
    "<span style=\"color:blue\">SELECT</span>\n",
    "  <span style=\"color:green\">-- Calculate the average orders per user</span>\n",
    "  <span style=\"color:blue\">ROUND(\n",
    "    orders :: NUMERIC / GREATEST(users, 1),\n",
    "  2) AS arpu\n",
    "FROM kpi;</span></code>"
   ]
  },
  {
   "cell_type": "markdown",
   "metadata": {},
   "source": [
    "<h3>EXAMPLE_19: ARPU</h3>"
   ]
  },
  {
   "cell_type": "markdown",
   "metadata": {},
   "source": [
    "<code><span style=\"color:blue\">WITH kpis AS (\n",
    "    SELECT \n",
    "        SUM(meal_price * order_quantity) AS revenue,\n",
    "        COUNT(DISTINCT user_id) AS users \n",
    "    FROM meals JOIN orders ON meals.meal_id = orders.meal_id\n",
    "    )</span>\n",
    "    <span style=\"color:blue\">SELECT\n",
    "        ROUND(revenue :: NUMERIC / GREATEST(users, 1),2) AS arpu \n",
    "    FROM kpis;</span>\n",
    "</code>"
   ]
  },
  {
   "cell_type": "markdown",
   "metadata": {},
   "source": [
    "<h3>EXAMPLE_20: Histogram of revenue</h3>"
   ]
  },
  {
   "cell_type": "markdown",
   "metadata": {},
   "source": [
    "<code><span style=\"color:blue\">WITH user_revenues AS (\n",
    "  SELECT</span>\n",
    "    <span style=\"color:green\">-- Select the user ID and revenue</span>\n",
    "    <span style=\"color:blue\">user_id,\n",
    "    SUM(meal_price*order_quantity) AS revenue\n",
    "  FROM meals AS m\n",
    "  JOIN orders AS o ON m.meal_id = o.meal_id\n",
    "  GROUP BY user_id)</span>\n",
    "\n",
    "<span style=\"color:blue\">SELECT</span>\n",
    "  <span style=\"color:green\">-- Return the frequency table of revenues by user</span>\n",
    "  <span style=\"color:blue\">ROUND(revenue::NUMERIC,-2) AS revenue_100,\n",
    "  COUNT(DISTINCT(user_id)) AS users\n",
    "FROM user_revenues\n",
    "GROUP BY revenue_100\n",
    "ORDER BY revenue_100 ASC;</span></code>"
   ]
  },
  {
   "cell_type": "markdown",
   "metadata": {},
   "source": [
    "<h3>EXAMPLE_21: Histogram of orders</h3>"
   ]
  },
  {
   "cell_type": "markdown",
   "metadata": {},
   "source": [
    "<code><span style=\"color:blue\">WITH user_orders AS (\n",
    "  SELECT\n",
    "    user_id,\n",
    "    COUNT(DISTINCT order_id) AS orders\n",
    "  FROM orders\n",
    "  GROUP BY user_id)</span>\n",
    "\n",
    "<span style=\"color:blue\">SELECT</span>\n",
    "  <span style=\"color:green\">-- Return the frequency table of orders by user</span>\n",
    "  <span style=\"color:blue\">orders,\n",
    "  COUNT(DISTINCT user_id) AS users\n",
    "FROM user_orders\n",
    "GROUP BY orders\n",
    "ORDER BY orders ASC;</span></code>"
   ]
  },
  {
   "cell_type": "markdown",
   "metadata": {},
   "source": [
    "<h3>EXAMPLE_22: Bucketing users by revenue</h3>"
   ]
  },
  {
   "cell_type": "markdown",
   "metadata": {},
   "source": [
    "<code><span style=\"color:blue\">WITH user_revenues AS (\n",
    "  SELECT</span>\n",
    "    <span style=\"color:green\">-- Select the user IDs and the revenues they generate</span>\n",
    "    <span style=\"color:blue\">user_id,\n",
    "    sum(meal_price*order_quantity) AS revenue\n",
    "  FROM meals AS m\n",
    "  JOIN orders AS o ON m.meal_id = o.meal_id\n",
    "  GROUP BY user_id)</span>\n",
    "\n",
    "<span style=\"color:blue\">SELECT</span>\n",
    "  <span style=\"color:green\">-- Fill in the bucketing conditions</span>\n",
    "  <span style=\"color:blue\">CASE\n",
    "    WHEN revenue < 150 THEN 'Low-revenue users'\n",
    "    WHEN revenue < 300 THEN 'Mid-revenue users'\n",
    "    ELSE 'High-revenue users'\n",
    "  END AS revenue_group,\n",
    "  COUNT(DISTINCT(user_id)) AS users\n",
    "FROM user_revenues\n",
    "GROUP BY revenue_group;</span></code>"
   ]
  },
  {
   "cell_type": "markdown",
   "metadata": {},
   "source": [
    "<h3>EXAMPLE_23: Bucketing users by orders</h3>"
   ]
  },
  {
   "cell_type": "markdown",
   "metadata": {},
   "source": [
    "<code><span style=\"color:green\">-- Store each user's count of orders in a CTE named user_orders</span>\n",
    "<span style=\"color:blue\">WITH user_orders AS (\n",
    "  SELECT\n",
    "    user_id,\n",
    "    COUNT(DISTINCT(order_id)) AS orders\n",
    "  FROM orders\n",
    "  GROUP BY user_id)</span>\n",
    "\n",
    "<span style=\"color:blue\">SELECT</span>\n",
    "  <span style=\"color:green\">-- Write the conditions for the three buckets</span>\n",
    "  <span style=\"color:blue\">CASE\n",
    "    WHEN orders < 8 THEN 'Low-orders users'\n",
    "    WHEN orders < 15 THEN 'Mid-orders users'\n",
    "    ELSE 'High-orders users'\n",
    "  END AS order_group,</span>\n",
    "  <span style=\"color:green\">-- Count the distinct users in each bucket</span>\n",
    "  <span style=\"color:blue\">COUNT(DISTINCT(user_id)) AS users\n",
    "FROM user_orders\n",
    "GROUP BY order_group;</span></code>"
   ]
  },
  {
   "cell_type": "markdown",
   "metadata": {},
   "source": [
    "<h3>EXAMPLE_24: Revenue quartiles</h3>"
   ]
  },
  {
   "cell_type": "markdown",
   "metadata": {},
   "source": [
    "<code><span style=\"color:blue\">WITH user_revenues AS (</span>\n",
    "  <span style=\"color:green\">-- Select the user IDs and their revenues</span>\n",
    "  <span style=\"color:blue\">SELECT\n",
    "    user_id,\n",
    "    sum(meal_price*order_quantity) AS revenue\n",
    "  FROM meals AS m\n",
    "  JOIN orders AS o ON m.meal_id = o.meal_id\n",
    "  GROUP BY user_id)</span>\n",
    "\n",
    "<span style=\"color:blue\">SELECT</span>\n",
    "  <span style=\"color:green\">-- Calculate the first, second, and third quartile</span>\n",
    "  <span style=\"color:blue\">ROUND(\n",
    "    PERCENTILE_CONT(0.25) WITHIN GROUP (ORDER BY revenue ASC) :: NUMERIC,\n",
    "  2) AS revenue_p25,\n",
    "  ROUND(\n",
    "    PERCENTILE_CONT(0.5) WITHIN GROUP (ORDER BY revenue ASC) :: NUMERIC,\n",
    "  2) AS revenue_p50,\n",
    "  ROUND(\n",
    "    PERCENTILE_CONT(0.75) WITHIN GROUP (ORDER BY revenue ASC) :: NUMERIC,\n",
    "  2) AS revenue_p75,</span>\n",
    "  <span style=\"color:green\">-- Calculate the average</span>\n",
    "  <span style=\"color:blue\">ROUND(avg(revenue) :: NUMERIC, 2) AS avg_revenue\n",
    "FROM user_revenues;</span></code>"
   ]
  },
  {
   "cell_type": "markdown",
   "metadata": {},
   "source": [
    "<h3>EXAMPLE_25: Interquartile range</h3>"
   ]
  },
  {
   "cell_type": "markdown",
   "metadata": {},
   "source": [
    "<code><span style=\"color:blue\">WITH user_revenues AS (\n",
    "  SELECT</span>\n",
    "    <span style=\"color:green\">-- Select user_id and calculate revenue by user</span> \n",
    "    <span style=\"color:blue\">user_id,\n",
    "    SUM(m.meal_price * o.order_quantity) AS revenue\n",
    "  FROM meals AS m\n",
    "  JOIN orders AS o ON m.meal_id = o.meal_id\n",
    "  GROUP BY user_id),</span>\n",
    "\n",
    "  <span style=\"color:blue\">quartiles AS (\n",
    "  SELECT</span>\n",
    "    <span style=\"color:green\">-- Calculate the first and third revenue quartiles</span>\n",
    "    <span style=\"color:blue\">ROUND(\n",
    "      PERCENTILE_CONT(0.25) WITHIN GROUP\n",
    "      (ORDER BY revenue ASC) :: NUMERIC,\n",
    "    2) AS revenue_p25,\n",
    "    ROUND(\n",
    "      PERCENTILE_CONT(0.75) WITHIN GROUP\n",
    "      (ORDER BY revenue ASC) :: NUMERIC,\n",
    "    2) AS revenue_p75\n",
    "  FROM user_revenues)</span>\n",
    "\n",
    "<span style=\"color:blue\">SELECT</span>\n",
    "  <span style=\"color:green\">-- Count the number of users in the IQR</span>\n",
    "  <span style=\"color:blue\">COUNT(DISTINCT user_id) AS users\n",
    "FROM user_revenues\n",
    "CROSS JOIN quartiles</span>\n",
    "<span style=\"color:green\">-- Only keep users with revenues in the IQR range</span>\n",
    "<span style=\"color:blue\">WHERE revenue :: NUMERIC >= revenue_p25\n",
    "  AND revenue :: NUMERIC <= revenue_p75;</span></code>"
   ]
  },
  {
   "cell_type": "markdown",
   "metadata": {},
   "source": [
    "## 4. Generating an executive report"
   ]
  },
  {
   "cell_type": "markdown",
   "metadata": {},
   "source": [
    "<p>Executives often use the KPIs we've calculated in the three previous paragraphs to guide business decisions. In this paragraph, we'll package the KPIs we've created into a readable report you can present to managers and executives.</p>"
   ]
  },
  {
   "cell_type": "markdown",
   "metadata": {},
   "source": [
    "<p><b><i>TO_CHAR(DATE, TEXT):</i></b> (the formatted date string). <a href=\"https://www.postgresql.org/docs/9.6/functions-formatting.html\">Function documentation</a></p>\n",
    "<p><b><i>WINDOW FUNCTIONS:</i></b>\n",
    "    <ul>\n",
    "        <li><b>SUM(...) OVER (...): </b>Calculates a column running total;<ul><li><i>EXAMPLE:</i> <b>SUM(registrations) OVER (ORDER BY registration_month)</b> - calculates the regestrations running total</li></ul></li>\n",
    "        <li><b>LAG(...) OVER (...): </b>Fetches a precedin grow's value;<ul><li><i>EXAMPLE:</i> <b>LAG(mau) OVER (ORDER BY active_month)</b> - returns the previous month's active users(MAU)</li></ul></li>\n",
    "        <li><b>RANK() OVER (...): </b>Assigns a rank to each row based on that row's position in a sorted order;<ul><li><i>EXAMPLE:</i> <b>RANK() OVER (ORDER BY revenue DESC)</b> - ranks users, eateries, or months by the revenue they've generated\n",
    "</li></ul></li>\n",
    "    </ul>\n",
    "</p>\n",
    "<p><b><i>PIVOTING: </i></b>Rotating a table around a pivot column; transposing a column's values into columns (Converts a \"long\" table into a \"wide\" one).</p>"
   ]
  },
  {
   "cell_type": "markdown",
   "metadata": {},
   "source": [
    "<h3>EXAMPLE_26: Formatting dates</h3>"
   ]
  },
  {
   "cell_type": "markdown",
   "metadata": {},
   "source": [
    "<code><span style=\"color:blue\">SELECT DISTINCT</span>\n",
    "  <span style=\"color:green\">-- Select the order date</span>\n",
    "  <span style=\"color:blue\">order_date,</span>\n",
    "  <span style=\"color:green\">-- Format the order date</span>\n",
    "  <span style=\"color:blue\">TO_CHAR(order_date, 'FMDay DD, FMMonth YYYY') AS format_order_date\n",
    "FROM orders\n",
    "ORDER BY order_date ASC\n",
    "LIMIT 3;</span></code>"
   ]
  },
  {
   "cell_type": "markdown",
   "metadata": {},
   "source": [
    "<h3>EXAMPLE_27: Rank users by their count of orders</h3>"
   ]
  },
  {
   "cell_type": "markdown",
   "metadata": {},
   "source": [
    "<code><span style=\"color:green\">-- Set up the user_count_orders CTE</span>\n",
    "<span style=\"color:blue\">WITH user_count_orders AS (\n",
    "  SELECT\n",
    "    user_id,\n",
    "    COUNT(DISTINCT order_id) AS count_orders\n",
    "  FROM orders</span>\n",
    "  <span style=\"color:green\">-- Only keep orders in August 2018</span>\n",
    "  <span style=\"color:blue\">WHERE DATE_TRUNC('month', order_date) = '2018-08-01'\n",
    "  GROUP BY user_id)</span>\n",
    "\n",
    "<span style=\"color:blue\">SELECT</span>\n",
    "  <span style=\"color:green\">-- Select user ID, and rank user ID by count_orders</span>\n",
    "  <span style=\"color:blue\">user_id,\n",
    "  RANK() OVER (ORDER BY count_orders DESC) AS count_orders_rank\n",
    "FROM user_count_orders\n",
    "ORDER BY count_orders_rank ASC</span>\n",
    "<span style=\"color:green\">-- Limit the user IDs selected to 3</span>\n",
    "<span style=\"color:blue\">LIMIT 3;</span></code>"
   ]
  },
  {
   "cell_type": "markdown",
   "metadata": {},
   "source": [
    "<h3>EXAMPLE_28: Pivoting user revenues by month</h3>"
   ]
  },
  {
   "cell_type": "markdown",
   "metadata": {},
   "source": [
    "<code><span style=\"color:green\">-- Import tablefunc</span>\n",
    "<span style=\"color:blue\">CREATE EXTENSION IF NOT EXISTS tablefunc;</span>\n",
    "\n",
    "<span style=\"color:blue\">SELECT * FROM CROSSTAB($$\n",
    "  SELECT\n",
    "    user_id,\n",
    "    DATE_TRUNC('month', order_date) :: DATE AS delivr_month,\n",
    "    SUM(meal_price * order_quantity) :: FLOAT AS revenue\n",
    "  FROM meals\n",
    "  JOIN orders ON meals.meal_id = orders.meal_id\n",
    " WHERE user_id IN (0, 1, 2, 3, 4)\n",
    "   AND order_date < '2018-09-01'\n",
    " GROUP BY user_id, delivr_month\n",
    " ORDER BY user_id, delivr_month;\n",
    "$$)</span>\n",
    "<span style=\"color:green\">-- Select user ID and the months from June to August 2018</span>\n",
    "<span style=\"color:blue\">AS ct (user_id INT,\n",
    "       \"2018-06-01\" FLOAT,\n",
    "       \"2018-07-01\" FLOAT,\n",
    "       \"2018-08-01\" FLOAT)\n",
    "ORDER BY user_id ASC;</span></code>"
   ]
  },
  {
   "cell_type": "markdown",
   "metadata": {},
   "source": [
    "<h3>EXAMLE_29: Another pivot table example</h3>"
   ]
  },
  {
   "cell_type": "markdown",
   "metadata": {},
   "source": [
    "<code><span style=\"color:green\">-- Import tablefunc</span>\n",
    "<span style=\"color:blue\">CREATE EXTENSION IF NOT EXISTS tablefunc;</span>\n",
    "\n",
    "<span style=\"color:blue\">SELECT * FROM CROSSTAB($$\n",
    "  SELECT\n",
    "    -- Select eatery and calculate total cost\n",
    "    eatery,\n",
    "    DATE_TRUNC('month', stocking_date) :: DATE AS delivr_month,\n",
    "    SUM(meal_cost * stocked_quantity) :: FLOAT AS cost\n",
    "  FROM meals\n",
    "  JOIN stock ON meals.meal_id = stock.meal_id\n",
    "-- Keep only the records after October 2018\n",
    "  WHERE DATE_TRUNC('month', stocking_date) > '2018-10-01'\n",
    "  GROUP BY eatery, delivr_month\n",
    "  ORDER BY eatery, delivr_month;\n",
    "$$)</span>\n",
    "\n",
    "<span style=\"color:green\">-- Select the eatery and November and December 2018 as columns</span>\n",
    "<span style=\"color:blue\">AS ct (eatery TEXT,\n",
    "       \"2018-11-01\" FLOAT,\n",
    "       \"2018-12-01\" FLOAT)\n",
    "ORDER BY eatery ASC;</span></code>"
   ]
  },
  {
   "cell_type": "markdown",
   "metadata": {},
   "source": [
    "<h3>EXAMPLE_30: Executive report</h3>"
   ]
  },
  {
   "cell_type": "markdown",
   "metadata": {},
   "source": [
    "<code><span style=\"color:green\">-- Import tablefunc</span>\n",
    "<span style=\"color:blue\">CREATE EXTENSION IF NOT EXISTS tablefunc;</span>\n",
    "\n",
    "<span style=\"color:green\">-- Pivot the previous query by quarter</span>\n",
    "<span style=\"color:blue\">SELECT * FROM CROSSTAB($$\n",
    "  WITH eatery_users AS  (\n",
    "    SELECT\n",
    "      eatery,\n",
    " -- Format the order date so \"2018-06-01\" becomes \"Q2 2018\"\n",
    "      TO_CHAR(order_date, '\"Q\"Q YYYY') AS delivr_quarter,\n",
    " -- Count unique users\n",
    "      COUNT(DISTINCT user_id) AS users\n",
    "    FROM meals\n",
    "    JOIN orders ON meals.meal_id = orders.meal_id\n",
    "    GROUP BY eatery, delivr_quarter\n",
    "    ORDER BY delivr_quarter, users)\n",
    " --\n",
    "  SELECT\n",
    " -- Select eatery and quarter\n",
    "    eatery,\n",
    "    delivr_quarter,\n",
    " -- Rank rows, partition by quarter and order by users\n",
    "    RANK() OVER\n",
    "      (PARTITION BY delivr_quarter\n",
    "       ORDER BY users DESC) :: INT AS users_rank\n",
    "  FROM eatery_users\n",
    "  ORDER BY eatery, delivr_quarter;\n",
    "$$)</span>\n",
    "<span style=\"color:green\">-- Select the columns of the pivoted table</span>\n",
    "<span style=\"color:blue\">AS  ct (eatery TEXT,\n",
    "        \"Q2 2018\" INT,\n",
    "        \"Q3 2018\" INT,\n",
    "        \"Q4 2018\" INT)\n",
    "ORDER BY \"Q4 2018\";</span></code>"
   ]
  }
 ],
 "metadata": {
  "kernelspec": {
   "display_name": "R",
   "language": "R",
   "name": "ir"
  },
  "language_info": {
   "codemirror_mode": "r",
   "file_extension": ".r",
   "mimetype": "text/x-r-source",
   "name": "R",
   "pygments_lexer": "r",
   "version": "3.6.1"
  }
 },
 "nbformat": 4,
 "nbformat_minor": 2
}
